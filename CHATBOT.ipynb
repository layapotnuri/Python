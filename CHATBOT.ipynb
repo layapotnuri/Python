{
 "cells": [
  {
   "cell_type": "code",
   "execution_count": 4,
   "id": "b9d07c12",
   "metadata": {},
   "outputs": [
    {
     "name": "stdout",
     "output_type": "stream",
     "text": [
      "Welcome to the Rule-Based Chatbot!\n",
      "You: hi\n",
      "Pathibabu: Hello!\n",
      "You: how are you\n",
      "Pathibabu: I'm doing well, thank you!\n",
      "You: bye\n",
      "Pathibabu: Goodbye! Have a great day!\n"
     ]
    }
   ],
   "source": [
    "def chatbot(input_text):\n",
    "    # Predefined rules and responses\n",
    "    responses = {\n",
    "        \"hi\": \"Hello!\",\n",
    "        \"how are you\": \"I'm doing well, thank you!\",\n",
    "        \"bye\": \"Goodbye! Have a great day!\",\n",
    "        \"default\": \"I'm sorry, I didn't understand that.\"\n",
    "    }\n",
    "\n",
    "    # Convert input to lowercase for case-insensitive matching\n",
    "    input_text = input_text.lower()\n",
    "\n",
    "    # Check if input matches any predefined rules\n",
    "    if input_text in responses:\n",
    "        return responses[input_text]\n",
    "    else:\n",
    "        return responses[\"default\"]\n",
    "\n",
    "# Main function to interact with the chatbot\n",
    "def main():\n",
    "    print(\"Welcome to the Rule-Based Chatbot!\")\n",
    "\n",
    "    while True:\n",
    "        user_input = input(\"You: \")\n",
    "        response = chatbot(user_input)\n",
    "        print(\"Pathibabu:\", response)\n",
    "\n",
    "        # Exit the loop if user says \"bye\"\n",
    "        if user_input.lower() == \"bye\":\n",
    "            break\n",
    "\n",
    "if __name__ == \"__main__\":\n",
    "    main() # Call the main function\n"
   ]
  },
  {
   "cell_type": "code",
   "execution_count": null,
   "id": "4ac92869",
   "metadata": {},
   "outputs": [],
   "source": []
  }
 ],
 "metadata": {
  "kernelspec": {
   "display_name": "Python 3 (ipykernel)",
   "language": "python",
   "name": "python3"
  },
  "language_info": {
   "codemirror_mode": {
    "name": "ipython",
    "version": 3
   },
   "file_extension": ".py",
   "mimetype": "text/x-python",
   "name": "python",
   "nbconvert_exporter": "python",
   "pygments_lexer": "ipython3",
   "version": "3.11.5"
  }
 },
 "nbformat": 4,
 "nbformat_minor": 5
}
